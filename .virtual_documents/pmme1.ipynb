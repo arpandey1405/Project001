


import pandas as pd
import numpy as np


column_names = ['engine_id', 'cycle'] + \
               [f'op_setting_{i}' for i in range(1, 4)] + \
               [f'sensor_{i}' for i in range(1, 22)]

df = pd.read_csv('../data/train_FD001.txt', sep=r'\s+', header=None)

df.columns = column_names


df


df.shape


df.describe()


max_cycle = df.groupby('engine_id')['cycle'].max().reset_index()
max_cycle.columns = ['engine_id', 'max_cycle']


max_cycle


df = df.merge(max_cycle, on='engine_id')
df


df['RUL'] = df['max_cycle'] - df['cycle']
