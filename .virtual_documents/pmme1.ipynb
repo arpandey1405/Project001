


# import all necessary modules
import pandas as pd
import numpy as np
import matplotlib.pyplot as plt
import seaborn as sns


# Setup display options
pd.set_option('display.max_columns', 30)


# Load the dataset
df = pd.read_csv('train_FD001.txt', sep=r'\s+', header=None)

# Show first 5 rows
df.head()


# Define column names for the 26 columns (1 engine_id + 1 cycle + 3 settings + 21 sensors)
column_names = ['engine_id', 'cycle'] + \
               [f'op_setting_{i}' for i in range(1, 4)] + \
               [f'sensor_{i}' for i in range(1, 22)]

df.columns = column_names

# Confirm structure
df.head()


df.describe()


# Get the max cycle for each engine
max_cycle = df.groupby('engine_id')['cycle'].max().reset_index()
max_cycle.columns = ['engine_id', 'max_cycle']

# Merge with original dataframe
df = df.merge(max_cycle, on='engine_id')

#Calculate Relative Useful Line for all the engines 
df['RUL']=df['max_cycle']-df['cycle']

#Drop the max_life column as it is not required for further calculation(helper column)
df.drop('max_cycle',axis=1,inplace=True)


df.head()


plt.figure(figsize=(10,8))

for eid in range(1, 11):  # First 10 engines
    temp = df[df['engine_id'] == eid]
    plt.plot(temp['cycle'], temp['RUL'], label=f'Engine {eid}')

plt.xlabel("Cycle")
plt.ylabel("RUL")
plt.title("RUL Degradation for First 10 Engines")
for eid in range(1, 6):  # First 5 engines
    temp = df[df['engine_id'] == eid]
    plt.plot(temp['cycle'], temp['RUL'], label=f'Engine {eid}')

plt.xlabel("Cycle")
plt.ylabel("RUL")
plt.title("RUL Degradation for First 5 Engines")
plt.legend()
plt.grid(True)
plt.show()
    


# Drop non-informative columns: engine_id and cycle are needed, but others may not be
sensor_cols = df.columns[2:-1]  # Skip engine_id, cycle, RUL

# Calculate standard deviation of each column
stds = df[sensor_cols].std()

# Show sensors with near-zero standard deviation
low_variance_sensors = stds[stds < 0.01]
print("Sensors with very low variance:\n", low_variance_sensors)



# df = pd.read_csv('train_FD001.txt')
# # Filter data for a single engine
# engine_df = df[df['engine_id'] == 1]

# # Plot selected sensor trends
# plt.figure(figsize=(14, 6))
# for i, sensor in enumerate(['sensor_2', 'sensor_3', 'sensor_4', 'sensor_7', 'sensor_8'], start=1):
#     plt.subplot(2, 3, i)
#     sns.lineplot(data=engine_df, x='cycle', y=sensor)
#     plt.title(sensor)

# plt.tight_layout()
# plt.show()



# Final feature selection (example — adjust based on what you see)
useful_features = ['cycle', 'op_setting_1', 'op_setting_2', 'op_setting_3',
                   'sensor_2', 'sensor_3', 'sensor_4', 'sensor_7', 'sensor_8',
                   'sensor_11', 'sensor_15', 'sensor_17', 'sensor_20', 'sensor_21']

df_filtered = df[useful_features + ['RUL']]
df_filtered.head()


plt.figure(figsize=(8, 5))
sns.histplot(df_filtered['RUL'], bins=50, kde=True)
plt.title("Distribution of Remaining Useful Life (RUL)")
plt.show()

plt.figure(figsize=(12, 8))
sns.heatmap(df_filtered.corr(), annot=True, fmt=".2f", cmap='coolwarm')
plt.title("Feature Correlation Matrix")
plt.show()



from sklearn.model_selection import train_test_split

X=df_filtered.drop('RUL',axis=1)
y=df_filtered['RUL']

X_train,X_test,y_train,y_test=train_test_split(X,y,test_size=0.1,random_state=42)
print(f"Train samples: {X_train.shape[0]},Testing samples: {X_test.shape[0]}")


from sklearn.preprocessing import StandardScaler

scaler = StandardScaler()

X_train_scaled = scaler.fit_transform(X_train)
X_test_scaled = scaler.transform(X_test)


from sklearn.ensemble import RandomForestRegressor
from sklearn.metrics import mean_squared_error, mean_absolute_error, r2_score

# Initialize model
rf = RandomForestRegressor(n_estimators=100, random_state=42)

# Train
rf.fit(X_train_scaled, y_train)

# Predict
y_pred = rf.predict(X_test_scaled)

# Evaluate
print("Mean Absolute Error (MAE):", mean_absolute_error(y_test, y_pred))
print("Mean Squared Error (MSE):", mean_squared_error(y_test, y_pred))
print("R^2 Score:", r2_score(y_test, y_pred))


plt.figure(figsize=(10,6))
plt.scatter(y_test, y_pred, alpha=0.5)
plt.plot([0, max(y_test)], [0, max(y_test)], 'r--')  # perfect prediction line
plt.xlabel("Actual RUL")
plt.ylabel("Predicted RUL")
plt.title("Actual vs Predicted Remaining Useful Life")
plt.show()




